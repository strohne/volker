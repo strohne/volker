{
 "cells": [
  {
   "cell_type": "markdown",
   "id": "bfa39cb9-bd72-448c-a67a-839b00cb40c0",
   "metadata": {},
   "source": [
    "# Getting started with volkeR\n",
    "\n",
    "First, load packages, optionally set the plot theme, and load some data."
   ]
  },
  {
   "cell_type": "code",
   "execution_count": null,
   "id": "fea06def-f96b-47e5-9def-e8232aa83ab2",
   "metadata": {
    "tags": []
   },
   "outputs": [],
   "source": [
    "# Load packages\n",
    "library(tidyverse)\n",
    "library(volker)\n",
    "\n",
    "# Set theme\n",
    "theme_set(theme_vlkr())\n",
    "\n",
    "# Load an example dataset ds from the package\n",
    "ds <- volker::chatgpt"
   ]
  },
  {
   "cell_type": "markdown",
   "id": "321d6b86-db4d-448c-bd95-9f4e8d6ab1cf",
   "metadata": {
    "tags": []
   },
   "source": [
    "The volkeR-package basically boils down to two functions. \n",
    "Both produce a table, plot and optionally effect sizes with statistical tests for a variable selection.\n",
    "First, you decide whether to handle your variables as categorical or as metric data. \n",
    "Then, the column selection and optional parameters determine the output:\n",
    "\n",
    "- report_counts() is used for categorical data\n",
    "- report_metrics() is used for metric data\n"
   ]
  },
  {
   "cell_type": "markdown",
   "id": "0f6c23f3-f11b-4543-9135-94c3dad3c3e4",
   "metadata": {},
   "source": [
    "# Example for metric variables"
   ]
  },
  {
   "cell_type": "code",
   "execution_count": null,
   "id": "3bbd6048-a51d-4fd7-9226-e09152d22f60",
   "metadata": {
    "tags": []
   },
   "outputs": [],
   "source": [
    "report_metrics(ds, starts_with(\"cg_adoption_\"))"
   ]
  },
  {
   "cell_type": "markdown",
   "id": "6eeb9951-8675-41b4-99b1-835a6c4c5a8f",
   "metadata": {},
   "source": [
    "# Example for categorical data"
   ]
  },
  {
   "cell_type": "code",
   "execution_count": null,
   "id": "cfe53a9b-fa6e-4404-8cae-8524d3aa8528",
   "metadata": {
    "tags": []
   },
   "outputs": [],
   "source": [
    "report_counts(ds, adopter, sd_gender)"
   ]
  }
 ],
 "metadata": {
  "kernelspec": {
   "display_name": "R",
   "language": "R",
   "name": "ir"
  },
  "language_info": {
   "codemirror_mode": "r",
   "file_extension": ".r",
   "mimetype": "text/x-r-source",
   "name": "R",
   "pygments_lexer": "r",
   "version": "4.3.2"
  }
 },
 "nbformat": 4,
 "nbformat_minor": 5
}
